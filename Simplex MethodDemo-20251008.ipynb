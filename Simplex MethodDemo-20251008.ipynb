{
 "cells": [
  {
   "cell_type": "markdown",
   "id": "58f4d7dc",
   "metadata": {},
   "source": [
    "# Using SymPy to Compute Inverses\n",
    "\n",
    "This notebook demonstrates how to use **SymPy** to compute:\n",
    "1. The inverse of a matrix (numeric and symbolic).\n",
    "2. The inverse via adjugate and determinant.\n",
    "3. The inverse via Gauss–Jordan elimination.\n",
    "4. The inverse of a (univariate) function symbolically.\n",
    "\n",
    "> Requirements: `sympy` (preinstalled in most scientific Python setups)."
   ]
  },
  {
   "cell_type": "code",
   "execution_count": 47,
   "id": "b5891840",
   "metadata": {},
   "outputs": [
    {
     "data": {
      "text/plain": [
       "'1.13.3'"
      ]
     },
     "execution_count": 47,
     "metadata": {},
     "output_type": "execute_result"
    }
   ],
   "source": [
    "import sympy as sp\n",
    "sp.__version__"
   ]
  },
  {
   "cell_type": "markdown",
   "id": "ade28352",
   "metadata": {},
   "source": [
    "## 1) Basic Matrix Inverse (Numeric)\n",
    "We can compute the inverse of a numeric matrix with `Matrix.inv()`. The matrix is invertible iff its determinant is nonzero."
   ]
  },
  {
   "cell_type": "code",
   "execution_count": 48,
   "id": "9cdbc5e1",
   "metadata": {},
   "outputs": [
    {
     "data": {
      "text/plain": [
       "(Matrix([\n",
       " [2, 1, 0],\n",
       " [1, 3, 1],\n",
       " [0, 2, 2]]),\n",
       " 6,\n",
       " Matrix([\n",
       " [ 2/3, -1/3,  1/6],\n",
       " [-1/3,  2/3, -1/3],\n",
       " [ 1/3, -2/3,  5/6]]))"
      ]
     },
     "execution_count": 48,
     "metadata": {},
     "output_type": "execute_result"
    }
   ],
   "source": [
    "A = sp.Matrix([[2, 1, 0],\n",
    "               [1, 3, 1],\n",
    "               [0, 2, 2]])\n",
    "detA = A.det()\n",
    "A_inv = A.inv()  # LU-based by default\n",
    "A, detA, A_inv"
   ]
  },
  {
   "cell_type": "code",
   "execution_count": 49,
   "id": "07a69eb6",
   "metadata": {},
   "outputs": [
    {
     "data": {
      "text/plain": [
       "(Matrix([\n",
       " [1, 0, 0],\n",
       " [0, 1, 0],\n",
       " [0, 0, 1]]),\n",
       " Matrix([\n",
       " [1, 0, 0],\n",
       " [0, 1, 0],\n",
       " [0, 0, 1]]))"
      ]
     },
     "execution_count": 49,
     "metadata": {},
     "output_type": "execute_result"
    }
   ],
   "source": [
    "# Verify A * A^{-1} = I and A^{-1} * A = I\n",
    "A * A_inv, A_inv * A"
   ]
  },
  {
   "cell_type": "markdown",
   "id": "b7b3a4d2",
   "metadata": {},
   "source": [
    "## 2) Matrix Inverse (Symbolic)\n",
    "Define a symbolic 2×2 matrix and compute its inverse in closed form."
   ]
  },
  {
   "cell_type": "code",
   "execution_count": 50,
   "id": "c77186ee",
   "metadata": {},
   "outputs": [
    {
     "data": {
      "text/plain": [
       "(a*d - b*c,\n",
       " Matrix([\n",
       " [ d/(a*d - b*c), -b/(a*d - b*c)],\n",
       " [-c/(a*d - b*c),  a/(a*d - b*c)]]))"
      ]
     },
     "execution_count": 50,
     "metadata": {},
     "output_type": "execute_result"
    }
   ],
   "source": [
    "a,b,c,d = sp.symbols('a b c d')\n",
    "M = sp.Matrix([[a, b],[c, d]])\n",
    "detM = M.det()\n",
    "M_inv = M.inv()\n",
    "detM, M_inv"
   ]
  },
  {
   "cell_type": "markdown",
   "id": "405ad29b",
   "metadata": {},
   "source": [
    "**Note:** The inverse exists when $\\det(M) = ad - bc \\ne 0$."
   ]
  },
  {
   "cell_type": "code",
   "execution_count": 51,
   "id": "19675bd2-cc4e-46d8-9908-e6119b484fb4",
   "metadata": {},
   "outputs": [
    {
     "data": {
      "text/plain": [
       "(a*d*i - a*f*h - b*c*i + b*f*g + c*e*h - d*e*g,\n",
       " Matrix([\n",
       " [ (d*i - f*h)/(a*d*i - a*f*h - b*c*i + b*f*g + c*e*h - d*e*g), (-b*i + e*h)/(a*d*i - a*f*h - b*c*i + b*f*g + c*e*h - d*e*g),  (b*f - d*e)/(a*d*i - a*f*h - b*c*i + b*f*g + c*e*h - d*e*g)],\n",
       " [(-c*i + f*g)/(a*d*i - a*f*h - b*c*i + b*f*g + c*e*h - d*e*g),  (a*i - e*g)/(a*d*i - a*f*h - b*c*i + b*f*g + c*e*h - d*e*g), (-a*f + c*e)/(a*d*i - a*f*h - b*c*i + b*f*g + c*e*h - d*e*g)],\n",
       " [ (c*h - d*g)/(a*d*i - a*f*h - b*c*i + b*f*g + c*e*h - d*e*g), (-a*h + b*g)/(a*d*i - a*f*h - b*c*i + b*f*g + c*e*h - d*e*g),  (a*d - b*c)/(a*d*i - a*f*h - b*c*i + b*f*g + c*e*h - d*e*g)]]))"
      ]
     },
     "execution_count": 51,
     "metadata": {},
     "output_type": "execute_result"
    }
   ],
   "source": [
    "a,b,c,d,e,f,g,h,i = sp.symbols('a b c d e f g h i')\n",
    "M = sp.Matrix([[a, b, e],[c, d, f],[g, h, i]])\n",
    "detM = M.det()\n",
    "M_inv = M.inv()\n",
    "detM, M_inv"
   ]
  },
  {
   "cell_type": "code",
   "execution_count": 52,
   "id": "a2aad58f-a1fa-457c-a0e3-016e9589418d",
   "metadata": {},
   "outputs": [
    {
     "data": {
      "text/plain": [
       "(Matrix([\n",
       " [2, 1, 0],\n",
       " [1, 3, 1],\n",
       " [0, 2, 2]]),\n",
       " 6,\n",
       " Matrix([\n",
       " [ 2/3, -1/3,  1/6],\n",
       " [-1/3,  2/3, -1/3],\n",
       " [ 1/3, -2/3,  5/6]]))"
      ]
     },
     "execution_count": 52,
     "metadata": {},
     "output_type": "execute_result"
    }
   ],
   "source": [
    "A = sp.Matrix([[2, 1, 0],\n",
    "               [1, 3, 1],\n",
    "               [0, 2, 2]])\n",
    "detA = A.det()\n",
    "A_inv = A.inv()  # LU-based by default\n",
    "A, detA, A_inv"
   ]
  },
  {
   "cell_type": "markdown",
   "id": "4ef034fb-1778-44c9-837f-27f6722a3ff5",
   "metadata": {},
   "source": [
    "$$\n",
    "\\begin{array}{rl}\n",
    "&2x+3y\\leq 30\\\\\n",
    "&-x+y\\leq 5\\\\\n",
    "&x+y\\geq 5\\\\\n",
    "&x\\leq 10\\\\\n",
    "&x\\geq 0,y\\geq 0\\\\\n",
    "\\end{array}\n",
    "\\Rightarrow\n",
    "\\begin{array}{rl}\n",
    "\\max &2x+3y\\\\\n",
    "\\hbox{s.t.}&2x+3y+s_{1}= 30\\\\\n",
    "&-x+y+s_{2}= 5\\\\\n",
    "&x+y-s_{3}= 5\\\\\n",
    "&x+s_{4}= 10\\\\\n",
    "&x,y,s_1,s_2,s_3,s_4\\geq 0\\\\\n",
    "\\end{array}\n",
    "\\Rightarrow\n",
    "\\begin{array}{rl}\n",
    "\\max &2x+3y{-mz_{3}}\\\\\n",
    "\\hbox{s.t.}&2x+3y+s_1= 30\\\\\n",
    "&-x+y+s_2= 5\\\\\n",
    "&x+y-s_{3}+z_{3}= 5\\\\\n",
    "&x+s_{4}= 10\\\\\n",
    "&x,y,s_1,s_2,s_3,s_4,z_{3}\\geq 0\\\\\n",
    "\\end{array}\n",
    "\\Rightarrow\n",
    "\\begin{array}{rl}\n",
    "\\max &2x_1+3x_2{-mx_{7}}\\\\\n",
    "\\hbox{s.t.}&2x_1+3x_2+x_3= 30\\\\\n",
    "&-x_1+x_2+x_4= 5\\\\\n",
    "&x_1+x_2-x_{5}+x_{7}= 5\\\\\n",
    "&x_1+x_{6}= 10\\\\\n",
    "&x_1,x_2,x_3,x_4,x_5,x_6,x_{7}\\geq 0\\\\\n",
    "\\end{array}\n",
    "$$"
   ]
  },
  {
   "cell_type": "code",
   "execution_count": 53,
   "id": "dc7a507f-6c41-4a63-832c-f46ea9d7b516",
   "metadata": {},
   "outputs": [],
   "source": [
    "import numpy as np"
   ]
  },
  {
   "cell_type": "code",
   "execution_count": 54,
   "id": "c7b819e9-9dda-460a-b1ee-2eab5687b98b",
   "metadata": {},
   "outputs": [],
   "source": [
    "m = sp.symbols('m')"
   ]
  },
  {
   "cell_type": "code",
   "execution_count": 60,
   "id": "8ef9cbc7-6e15-494b-9d09-9a12c2d96e6f",
   "metadata": {},
   "outputs": [
    {
     "data": {
      "text/latex": [
       "$\\displaystyle \\left[\\begin{matrix}1 & -2 & -3 & 0 & 0 & 0 & 0 & m & 0\\\\0 & 2 & 3 & 1 & 0 & 0 & 0 & 0 & 30\\\\0 & -1 & 1 & 0 & 1 & 0 & 0 & 0 & 5\\\\0 & 1 & 1 & 0 & 0 & -1 & 0 & 1 & 5\\\\0 & 1 & 0 & 0 & 0 & 0 & 1 & 0 & 10\\end{matrix}\\right]$"
      ],
      "text/plain": [
       "Matrix([\n",
       "[1, -2, -3, 0, 0,  0, 0, m,  0],\n",
       "[0,  2,  3, 1, 0,  0, 0, 0, 30],\n",
       "[0, -1,  1, 0, 1,  0, 0, 0,  5],\n",
       "[0,  1,  1, 0, 0, -1, 0, 1,  5],\n",
       "[0,  1,  0, 0, 0,  0, 1, 0, 10]])"
      ]
     },
     "execution_count": 60,
     "metadata": {},
     "output_type": "execute_result"
    }
   ],
   "source": [
    "A=[[1,-2,-3,0,0,0,0,m,0]]\n",
    "A.append([0,2,3,1,0,0,0,0,30])\n",
    "A.append([0,-1,1,0,1,0,0,0,5])\n",
    "A.append([0,1,1,0,0,-1,0,1,5])\n",
    "A.append([0,1,0,0,0,0,1,0,10])\n",
    "A=sp.Matrix(A)\n",
    "A"
   ]
  },
  {
   "attachments": {},
   "cell_type": "markdown",
   "id": "8c156cb7-0202-4f9e-9cba-a0d487732145",
   "metadata": {},
   "source": [
    "<img src=\"https://github.com/jylinncyu/ManagementMathematics/blob/main/20251008125136.png?raw=true\">"
   ]
  },
  {
   "cell_type": "code",
   "execution_count": 61,
   "id": "944e162c-a43d-4037-8ccb-432b9108b5a2",
   "metadata": {},
   "outputs": [
    {
     "data": {
      "text/latex": [
       "$\\displaystyle \\left[\\begin{matrix}1 & - m - 2 & - m - 3 & 0 & 0 & m & 0 & 0 & - 5 m\\\\0 & 2 & 3 & 1 & 0 & 0 & 0 & 0 & 30\\\\0 & -1 & 1 & 0 & 1 & 0 & 0 & 0 & 5\\\\0 & 1 & 1 & 0 & 0 & -1 & 0 & 1 & 5\\\\0 & 1 & 0 & 0 & 0 & 0 & 1 & 0 & 10\\end{matrix}\\right]$"
      ],
      "text/plain": [
       "Matrix([\n",
       "[1, -m - 2, -m - 3, 0, 0,  m, 0, 0, -5*m],\n",
       "[0,      2,      3, 1, 0,  0, 0, 0,   30],\n",
       "[0,     -1,      1, 0, 1,  0, 0, 0,    5],\n",
       "[0,      1,      1, 0, 0, -1, 0, 1,    5],\n",
       "[0,      1,      0, 0, 0,  0, 1, 0,   10]])"
      ]
     },
     "execution_count": 61,
     "metadata": {},
     "output_type": "execute_result"
    }
   ],
   "source": [
    "tilde_B=[0,3,4,7,6]#Z,x_3,x_4,x_7,x_6\n",
    "B=A[:,tilde_B]\n",
    "B.inv()*A"
   ]
  },
  {
   "attachments": {},
   "cell_type": "markdown",
   "id": "b2f1ab65-8a5b-47de-9bd0-0fee96163e05",
   "metadata": {},
   "source": [
    "<img src=\"https://github.com/jylinncyu/ManagementMathematics/blob/main/20251008125142.png?raw=true\">"
   ]
  },
  {
   "cell_type": "code",
   "execution_count": 62,
   "id": "21b32aef-d154-43ad-a517-d713e941ec1a",
   "metadata": {},
   "outputs": [
    {
     "data": {
      "text/latex": [
       "$\\displaystyle \\left[\\begin{matrix}1 & 0 & -1 & 0 & 0 & -2 & 0 & m + 2 & 10\\\\0 & 0 & 1 & 1 & 0 & 2 & 0 & -2 & 20\\\\0 & 0 & 2 & 0 & 1 & -1 & 0 & 1 & 10\\\\0 & 1 & 1 & 0 & 0 & -1 & 0 & 1 & 5\\\\0 & 0 & -1 & 0 & 0 & 1 & 1 & -1 & 5\\end{matrix}\\right]$"
      ],
      "text/plain": [
       "Matrix([\n",
       "[1, 0, -1, 0, 0, -2, 0, m + 2, 10],\n",
       "[0, 0,  1, 1, 0,  2, 0,    -2, 20],\n",
       "[0, 0,  2, 0, 1, -1, 0,     1, 10],\n",
       "[0, 1,  1, 0, 0, -1, 0,     1,  5],\n",
       "[0, 0, -1, 0, 0,  1, 1,    -1,  5]])"
      ]
     },
     "execution_count": 62,
     "metadata": {},
     "output_type": "execute_result"
    }
   ],
   "source": [
    "tilde_B=[0,3,4,1,6]#Z,x_3,x_4,x_1,x_6\n",
    "B=A[:,tilde_B]\n",
    "B.inv()*A"
   ]
  },
  {
   "attachments": {},
   "cell_type": "markdown",
   "id": "fa5399e1-770d-413f-b865-e5cdb4df3858",
   "metadata": {},
   "source": [
    "<img src=\"https://github.com/jylinncyu/ManagementMathematics/blob/main/20251008125149.png?raw=true\">"
   ]
  },
  {
   "cell_type": "code",
   "execution_count": 63,
   "id": "1b6a31da-1c02-495b-be43-ea8b96080e14",
   "metadata": {},
   "outputs": [
    {
     "data": {
      "text/latex": [
       "$\\displaystyle \\left[\\begin{matrix}1 & 0 & -3 & 0 & 0 & 0 & 2 & m & 20\\\\0 & 0 & 3 & 1 & 0 & 0 & -2 & 0 & 10\\\\0 & 0 & 1 & 0 & 1 & 0 & 1 & 0 & 15\\\\0 & 1 & 0 & 0 & 0 & 0 & 1 & 0 & 10\\\\0 & 0 & -1 & 0 & 0 & 1 & 1 & -1 & 5\\end{matrix}\\right]$"
      ],
      "text/plain": [
       "Matrix([\n",
       "[1, 0, -3, 0, 0, 0,  2,  m, 20],\n",
       "[0, 0,  3, 1, 0, 0, -2,  0, 10],\n",
       "[0, 0,  1, 0, 1, 0,  1,  0, 15],\n",
       "[0, 1,  0, 0, 0, 0,  1,  0, 10],\n",
       "[0, 0, -1, 0, 0, 1,  1, -1,  5]])"
      ]
     },
     "execution_count": 63,
     "metadata": {},
     "output_type": "execute_result"
    }
   ],
   "source": [
    "tilde_B=[0,3,4,1,5]#Z,x_3,x_4,x_1,x_5\n",
    "B=A[:,tilde_B]\n",
    "B.inv()*A"
   ]
  },
  {
   "attachments": {},
   "cell_type": "markdown",
   "id": "2bdbaf86-27c5-4ac5-bc8b-5008b5ede192",
   "metadata": {},
   "source": [
    "<img src=\"https://github.com/jylinncyu/ManagementMathematics/blob/main/20251008125200.png?raw=true\">"
   ]
  },
  {
   "cell_type": "code",
   "execution_count": 64,
   "id": "62ac8f8a-8aba-4439-a3b4-fa7f7613a7e0",
   "metadata": {},
   "outputs": [
    {
     "data": {
      "text/latex": [
       "$\\displaystyle \\left[\\begin{matrix}1 & 0 & 0 & 1 & 0 & 0 & 0 & m & 30\\\\0 & 0 & 1 & \\frac{1}{3} & 0 & 0 & - \\frac{2}{3} & 0 & \\frac{10}{3}\\\\0 & 0 & 0 & - \\frac{1}{3} & 1 & 0 & \\frac{5}{3} & 0 & \\frac{35}{3}\\\\0 & 1 & 0 & 0 & 0 & 0 & 1 & 0 & 10\\\\0 & 0 & 0 & \\frac{1}{3} & 0 & 1 & \\frac{1}{3} & -1 & \\frac{25}{3}\\end{matrix}\\right]$"
      ],
      "text/plain": [
       "Matrix([\n",
       "[1, 0, 0,    1, 0, 0,    0,  m,   30],\n",
       "[0, 0, 1,  1/3, 0, 0, -2/3,  0, 10/3],\n",
       "[0, 0, 0, -1/3, 1, 0,  5/3,  0, 35/3],\n",
       "[0, 1, 0,    0, 0, 0,    1,  0,   10],\n",
       "[0, 0, 0,  1/3, 0, 1,  1/3, -1, 25/3]])"
      ]
     },
     "execution_count": 64,
     "metadata": {},
     "output_type": "execute_result"
    }
   ],
   "source": [
    "tilde_B=[0,2,4,1,5]#Z,x_2,x_4,x_1,x_5\n",
    "B=A[:,tilde_B]\n",
    "B.inv()*A"
   ]
  },
  {
   "attachments": {},
   "cell_type": "markdown",
   "id": "7da491eb-1186-4d42-9e7f-c10b47961df3",
   "metadata": {},
   "source": [
    "<img src=\"https://github.com/jylinncyu/ManagementMathematics/blob/main/20251008125215.png?raw=true\">"
   ]
  },
  {
   "cell_type": "code",
   "execution_count": 65,
   "id": "6c69a8d2-8385-4ef5-af7e-d26c7e9aed5a",
   "metadata": {},
   "outputs": [
    {
     "data": {
      "text/latex": [
       "$\\displaystyle \\left[\\begin{matrix}1 & 0 & 0 & 1 & 0 & 0 & 0 & m & 30\\\\0 & 0 & 1 & \\frac{1}{5} & \\frac{2}{5} & 0 & 0 & 0 & 8\\\\0 & 0 & 0 & - \\frac{1}{5} & \\frac{3}{5} & 0 & 1 & 0 & 7\\\\0 & 1 & 0 & \\frac{1}{5} & - \\frac{3}{5} & 0 & 0 & 0 & 3\\\\0 & 0 & 0 & \\frac{2}{5} & - \\frac{1}{5} & 1 & 0 & -1 & 6\\end{matrix}\\right]$"
      ],
      "text/plain": [
       "Matrix([\n",
       "[1, 0, 0,    1,    0, 0, 0,  m, 30],\n",
       "[0, 0, 1,  1/5,  2/5, 0, 0,  0,  8],\n",
       "[0, 0, 0, -1/5,  3/5, 0, 1,  0,  7],\n",
       "[0, 1, 0,  1/5, -3/5, 0, 0,  0,  3],\n",
       "[0, 0, 0,  2/5, -1/5, 1, 0, -1,  6]])"
      ]
     },
     "execution_count": 65,
     "metadata": {},
     "output_type": "execute_result"
    }
   ],
   "source": [
    "tilde_B=[0,2,6,1,5]#Z,x_2,x_6,x_1,x_5\n",
    "B=A[:,tilde_B]\n",
    "B.inv()*A"
   ]
  },
  {
   "cell_type": "markdown",
   "id": "db10bc9b-5dda-467b-9436-5b426d14ba0f",
   "metadata": {},
   "source": [
    "Maximization\n",
    "\n",
    "$$\n",
    "\\begin{array}{rl}\n",
    "\\max & 19x+13y+14z\\\\\n",
    "s.t. & 3x+y+2z\\leq 1088\\\\\n",
    "& 5x+y+2z\\leq 968\\\\\n",
    "&4x+4y+z\\leq 862\\\\\n",
    "&x\\geq 0, y\\geq 0, z\\geq 0\n",
    "\\end{array}\n",
    "\\Rightarrow\n",
    "\\begin{array}{rl}\n",
    "\\max & 19x_1+13x_2+14x_3\\\\\n",
    "s.t. & 3x_1+x_2+2x_3\\leq 1088\\\\\n",
    "& 5x_1+x_2+2x_3\\leq 968\\\\\n",
    "&4x_1+4x_2+x_3\\leq 862\\\\\n",
    "&x_1\\geq 0, x_2\\geq 0, x_3\\geq 0\n",
    "\\end{array}\n",
    "\\Rightarrow\n",
    "\\begin{array}{rl}\n",
    "\\max & 19x_1+13x_2+14x_3\\\\\n",
    "s.t. & 3x_1+x_2+2x_3+x_4= 1088\\\\\n",
    "& 5x_1+x_2+2x_3+x_5= 968\\\\\n",
    "&4x_1+4x_2+x_3+x_6=  862\\\\\n",
    "&x_1\\geq 0, x_2\\geq 0, x_3\\geq 0,x_4\\geq 0,x_5\\geq 0,x_6\\geq 0\n",
    "\\end{array}.\n",
    "$$"
   ]
  },
  {
   "cell_type": "code",
   "execution_count": 66,
   "id": "c877c7ac-2700-4d21-98b8-1f67dbd8355d",
   "metadata": {},
   "outputs": [],
   "source": [
    "import numpy as np"
   ]
  },
  {
   "cell_type": "code",
   "execution_count": 67,
   "id": "96131402-639f-4206-909d-b60003933a87",
   "metadata": {},
   "outputs": [],
   "source": [
    "A=[[1,-19,-13,-14,0,0,0,0]]\n",
    "A.append([0,3,1,2,1,0,0,970])\n",
    "A.append([0,5,1,2,0,1,0,1090])\n",
    "A.append([0,4,4,1,0,0,1,860])\n",
    "A=[[1,-19,-13,-14,0,0,0,0]]\n",
    "A.append([0,3,1,2,1,0,0,1088])\n",
    "A.append([0,5,1,2,0,1,0,968])\n",
    "A.append([0,4,4,1,0,0,1,862])\n",
    "A=sp.Matrix(A)"
   ]
  },
  {
   "cell_type": "code",
   "execution_count": 68,
   "id": "822e4cd5-3242-440c-80dd-9dec26f5e4ff",
   "metadata": {
    "scrolled": true
   },
   "outputs": [
    {
     "data": {
      "text/latex": [
       "$\\displaystyle \\left[\\begin{matrix}1 & -19 & -13 & -14 & 0 & 0 & 0 & 0\\\\0 & 3 & 1 & 2 & 1 & 0 & 0 & 1088\\\\0 & 5 & 1 & 2 & 0 & 1 & 0 & 968\\\\0 & 4 & 4 & 1 & 0 & 0 & 1 & 862\\end{matrix}\\right]$"
      ],
      "text/plain": [
       "Matrix([\n",
       "[1, -19, -13, -14, 0, 0, 0,    0],\n",
       "[0,   3,   1,   2, 1, 0, 0, 1088],\n",
       "[0,   5,   1,   2, 0, 1, 0,  968],\n",
       "[0,   4,   4,   1, 0, 0, 1,  862]])"
      ]
     },
     "execution_count": 68,
     "metadata": {},
     "output_type": "execute_result"
    }
   ],
   "source": [
    "tilde_B=[0,4,5,6]\n",
    "B=A[:,tilde_B]\n",
    "B.inv()*A"
   ]
  },
  {
   "cell_type": "code",
   "execution_count": 69,
   "id": "868e970c-1960-4a22-8220-d2d6618cf5bb",
   "metadata": {
    "scrolled": true
   },
   "outputs": [
    {
     "data": {
      "text/latex": [
       "$\\displaystyle \\left[\\begin{matrix}1 & 0 & - \\frac{46}{5} & - \\frac{32}{5} & 0 & \\frac{19}{5} & 0 & \\frac{18392}{5}\\\\0 & 0 & \\frac{2}{5} & \\frac{4}{5} & 1 & - \\frac{3}{5} & 0 & \\frac{2536}{5}\\\\0 & 1 & \\frac{1}{5} & \\frac{2}{5} & 0 & \\frac{1}{5} & 0 & \\frac{968}{5}\\\\0 & 0 & \\frac{16}{5} & - \\frac{3}{5} & 0 & - \\frac{4}{5} & 1 & \\frac{438}{5}\\end{matrix}\\right]$"
      ],
      "text/plain": [
       "Matrix([\n",
       "[1, 0, -46/5, -32/5, 0, 19/5, 0, 18392/5],\n",
       "[0, 0,   2/5,   4/5, 1, -3/5, 0,  2536/5],\n",
       "[0, 1,   1/5,   2/5, 0,  1/5, 0,   968/5],\n",
       "[0, 0,  16/5,  -3/5, 0, -4/5, 1,   438/5]])"
      ]
     },
     "execution_count": 69,
     "metadata": {},
     "output_type": "execute_result"
    }
   ],
   "source": [
    "tilde_B=[0,4,1,6]\n",
    "B=A[:,tilde_B]\n",
    "B.inv()*A"
   ]
  },
  {
   "cell_type": "code",
   "execution_count": 70,
   "id": "f23e0ab4-406a-4f66-a14b-c6c21080a38f",
   "metadata": {},
   "outputs": [
    {
     "data": {
      "text/latex": [
       "$\\displaystyle \\left[\\begin{matrix}1 & 0 & 0 & - \\frac{65}{8} & 0 & \\frac{3}{2} & \\frac{23}{8} & \\frac{15721}{4}\\\\0 & 0 & 0 & \\frac{7}{8} & 1 & - \\frac{1}{2} & - \\frac{1}{8} & \\frac{1985}{4}\\\\0 & 1 & 0 & \\frac{7}{16} & 0 & \\frac{1}{4} & - \\frac{1}{16} & \\frac{1505}{8}\\\\0 & 0 & 1 & - \\frac{3}{16} & 0 & - \\frac{1}{4} & \\frac{5}{16} & \\frac{219}{8}\\end{matrix}\\right]$"
      ],
      "text/plain": [
       "Matrix([\n",
       "[1, 0, 0, -65/8, 0,  3/2,  23/8, 15721/4],\n",
       "[0, 0, 0,   7/8, 1, -1/2,  -1/8,  1985/4],\n",
       "[0, 1, 0,  7/16, 0,  1/4, -1/16,  1505/8],\n",
       "[0, 0, 1, -3/16, 0, -1/4,  5/16,   219/8]])"
      ]
     },
     "execution_count": 70,
     "metadata": {},
     "output_type": "execute_result"
    }
   ],
   "source": [
    "tilde_B=[0,4,1,2]\n",
    "B=A[:,tilde_B]\n",
    "B.inv()*A"
   ]
  },
  {
   "cell_type": "code",
   "execution_count": 71,
   "id": "c43597be-0c7a-4d2c-b482-23b5a63ebaaa",
   "metadata": {},
   "outputs": [
    {
     "data": {
      "text/latex": [
       "$\\displaystyle \\left[\\begin{matrix}1 & \\frac{130}{7} & 0 & 0 & 0 & \\frac{43}{7} & \\frac{12}{7} & 7424\\\\0 & -2 & 0 & 0 & 1 & -1 & 0 & 120\\\\0 & \\frac{16}{7} & 0 & 1 & 0 & \\frac{4}{7} & - \\frac{1}{7} & 430\\\\0 & \\frac{3}{7} & 1 & 0 & 0 & - \\frac{1}{7} & \\frac{2}{7} & 108\\end{matrix}\\right]$"
      ],
      "text/plain": [
       "Matrix([\n",
       "[1, 130/7, 0, 0, 0, 43/7, 12/7, 7424],\n",
       "[0,    -2, 0, 0, 1,   -1,    0,  120],\n",
       "[0,  16/7, 0, 1, 0,  4/7, -1/7,  430],\n",
       "[0,   3/7, 1, 0, 0, -1/7,  2/7,  108]])"
      ]
     },
     "execution_count": 71,
     "metadata": {},
     "output_type": "execute_result"
    }
   ],
   "source": [
    "tilde_B=[0,4,3,2]\n",
    "B=A[:,tilde_B]\n",
    "B.inv()*A"
   ]
  },
  {
   "cell_type": "markdown",
   "id": "370a3ad6-268b-47b2-8e0d-d4a7ea46fa4c",
   "metadata": {},
   "source": []
  },
  {
   "cell_type": "code",
   "execution_count": null,
   "id": "9e058fc9-1b1c-4dc6-90bb-54e9b9f2ae94",
   "metadata": {},
   "outputs": [],
   "source": []
  },
  {
   "cell_type": "code",
   "execution_count": null,
   "id": "64031e45-156d-4e49-ae91-51c00d123d15",
   "metadata": {},
   "outputs": [],
   "source": []
  }
 ],
 "metadata": {
  "kernelspec": {
   "display_name": "Python [conda env:base] *",
   "language": "python",
   "name": "conda-base-py"
  },
  "language_info": {
   "codemirror_mode": {
    "name": "ipython",
    "version": 3
   },
   "file_extension": ".py",
   "mimetype": "text/x-python",
   "name": "python",
   "nbconvert_exporter": "python",
   "pygments_lexer": "ipython3",
   "version": "3.13.5"
  }
 },
 "nbformat": 4,
 "nbformat_minor": 5
}
